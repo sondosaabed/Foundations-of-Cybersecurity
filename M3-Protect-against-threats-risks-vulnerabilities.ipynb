{
 "cells": [
  {
   "cell_type": "markdown",
   "metadata": {},
   "source": [
    "### The purpose of security frameworks include protecting\n",
    "- personally identifiable information, known as PII,\n",
    "- securing financial information,\n",
    "- identifying security weaknesses,\n",
    "- managing organizational risks,\n",
    "- aligning security with business goals. "
   ]
  },
  {
   "cell_type": "markdown",
   "metadata": {},
   "source": [
    "## Core components of security framework \n",
    "Frameworks have four core components and understanding them will allow you to better manage potential risks.\n",
    "- The first core component is identifying and documenting security goals.\n",
    "For example, an organization may have a goal to align with the E.U.'s General Data Protection Regulation, also known as GDPR. GDPR is a data protection law established to grant European citizens more control over their personal data.\n",
    "A security analyst may be asked to identify and document areas where an organization is out of compliance with GDPR.\n",
    "- The second core component is setting guidelines to achieve security goals. For example, when implementing guidelines to achieve GDPR compliance, your organization may need to develop new policies for how to handle data requests from individual users.\n",
    "- The third core component of security frameworks is implementing strong security processes. In the case of GDPR, a security analyst working for a social media company may help design procedures to ensure the organization\n",
    "complies with verified user data requests. An example of this type of request is when a user attempts to update or delete their profile information.\n",
    "- The last core component of security frameworks is monitoring and communicating results. As an example, you may monitor your organization's internal network and report a potential security issue affecting GDPR to your manager or regulatory compliance officer. "
   ]
  },
  {
   "cell_type": "markdown",
   "metadata": {},
   "source": [
    "## Security controls are safeguards\n",
    "designed to reduce specific security risks. For example, your company\n",
    "may have a guideline that requires all employees to complete a privacy training to reduce the risk of data breaches.\n",
    "As a security analyst, you may use a software tool to automatically\n",
    "assign and track which employees have completed this training.\n",
    "Security frameworks and controls are vital to managing security for all types of organizations and ensuring that everyone is doing their part to maintain a low level of risk.\n",
    "Understanding their purpose and how they are used allows analysts to support an organization's security goals and protect the people it serves. "
   ]
  },
  {
   "cell_type": "markdown",
   "metadata": {},
   "source": [
    "## Secure design\n",
    "- **The CIA triad**: This model helps organizations understand and manage risks related to data security. It stands for:\n",
    "    - Confidentiality: Ensuring only authorized users can access specific data.\n",
    "    - Integrity: Maintaining the accuracy and reliability of data.\n",
    "    - Availability: Guaranteeing authorized users can access data when needed.\n",
    "- **NIST Cybersecurity Framework (NIST CSF):** A voluntary framework providing standards, guidelines, and best practices for managing cybersecurity risks.\n",
    "    - Threat actors: Individuals or groups who attempt to harm organizations or steal data.\n",
    "        - Types of threat actors: Disgruntled employees, state-sponsored actors, organized crime groups, hacktivists, etc.\n",
    "        - Importance of understanding threat actors: Helps organizations identify vulnerabilities and implement appropriate security measures.\n",
    "\n",
    "- Importance of diversity in cybersecurity workforce: Different perspectives can help organizations better understand and mitigate threats.\n",
    "\n",
    "Key takeaways:\n",
    "\n",
    "- Security frameworks like the CIA triad and NIST CSF are crucial for protecting organizational assets and data.\n",
    "- Understanding different types of threat actors and their motives is essential for effective cybersecurity.\n",
    "- A diverse workforce in cybersecurity can enhance an organization's ability to identify and respond to threats."
   ]
  },
  {
   "cell_type": "markdown",
   "metadata": {},
   "source": [
    "### How controls, frameworks, and compliance are related\n",
    "\n",
    "The confidentiality, integrity, and availability (CIA) triad is a model that helps inform how organizations consider risk when setting up systems and security policies. \n",
    "A triangle representing the CIA (confidentiality, integrity, availability) triad.\n",
    "![image](https://github.com/user-attachments/assets/c732ab57-bc8d-4391-b15e-e33e7949a810)\n",
    "\n",
    "CIA are the three foundational principles used by cybersecurity professionals to establish appropriate controls that mitigate threats, risks, and vulnerabilities.\n",
    "\n",
    "As you may recall, security controls are safeguards designed to reduce specific security risks. So they are used alongside frameworks to ensure that security goals and processes are implemented correctly and that organizations meet regulatory compliance requirements.\n",
    "\n",
    "Security frameworks are guidelines used for building plans to help mitigate risks and threats to data and privacy. They have four core components:\n",
    "\n",
    "1. Identifying and documenting security goals \n",
    "2. Setting guidelines to achieve security goals \n",
    "3. Implementing strong security processes\n",
    "4. Monitoring and communicating results\n",
    "\n",
    "Compliance is the process of adhering to internal standards and external regulations."
   ]
  },
  {
   "cell_type": "markdown",
   "metadata": {},
   "source": [
    "## Specific controls, frameworks, and compliance\n",
    "\n",
    "The National Institute of Standards and Technology (NIST) is a U.S.-based agency that develops multiple voluntary compliance frameworks that organizations worldwide can use to help manage risk. The more aligned an organization is with compliance, the lower the risk.\n",
    "\n",
    "Examples of frameworks include the NIST Cybersecurity Framework (CSF) and the NIST Risk Management Framework (RMF). \n",
    "\n",
    "### The Federal Energy Regulatory Commission - North American Electric Reliability Corporation (FERC-NERC)\n",
    "\n",
    "FERC-NERC is a regulation that applies to organizations that work with electricity or that are involved with the U.S. and North American power grid. These types of organizations have an obligation to prepare for, mitigate, and report any potential security incident that can negatively affect the power grid. They are also legally required to adhere to the Critical Infrastructure Protection (CIP) Reliability Standards defined by the FERC. \n",
    "\n",
    "### The Federal Risk and Authorization Management Program (FedRAMP®)\n",
    "\n",
    "FedRAMP is a U.S. federal government program that standardizes security assessment, authorization, monitoring, and handling of cloud services and product offerings. Its purpose is to provide consistency across the government sector and third-party cloud providers. \n",
    "\n",
    "### Center for Internet Security (CIS®)\n",
    "\n",
    "CIS is a nonprofit with multiple areas of emphasis. It provides a set of controls that can be used to safeguard systems and networks against attacks. Its purpose is to help organizations establish a better plan of defense. CIS also provides actionable controls that security professionals may follow if a security incident occurs. \n",
    "\n",
    "### General Data Protection Regulation (GDPR)\n",
    "\n",
    "GDPR is a European Union (E.U.) general data regulation that protects the processing of E.U. residents’ data and their right to privacy in and out of E.U. territory. For example, if an organization is not being transparent about the data they are holding about an E.U. citizen and why they are holding that data, this is an infringement that can result in a fine to the organization. Additionally, if a breach occurs and an E.U. citizen’s data is compromised, they must be informed. The affected organization has 72 hours to notify the E.U. citizen about the breach.\n",
    "\n",
    "### Payment Card Industry Data Security Standard (PCI DSS)\n",
    "\n",
    "PCI DSS is an international security standard meant to ensure that organizations storing, accepting, processing, and transmitting credit card information do so in a secure environment. The objective of this compliance standard is to reduce credit card fraud. \n",
    "\n",
    "### The Health Insurance Portability and Accountability Act (HIPAA)\n",
    "\n",
    "HIPAA is a U.S. federal law established in 1996 to protect patients' health information. This law prohibits patient information from being shared without their consent. It is governed by three rules: \n",
    "- Privacy\n",
    "- Security \n",
    "- Breach notification \n",
    "\n",
    "Organizations that store patient data have a legal obligation to inform patients of a breach because if patients' Protected Health Information (PHI) is exposed, it can lead to identity theft and insurance fraud. PHI relates to the past, present, or future physical or mental health or condition of an individual, whether it’s a plan of care or payments for care. Along with understanding HIPAA as a law, security professionals also need to be familiar with the Health Information Trust Alliance (HITRUST®), which is a security framework and assurance program that helps institutions meet HIPAA compliance.\n",
    "\n",
    "### International Organization for Standardization (ISO) \n",
    "\n",
    "ISO was created to establish international standards related to technology, manufacturing, and management across borders. It helps organizations improve their processes and procedures for staff retention, planning, waste, and services. \n",
    "\n",
    "### System and Organizations Controls (SOC type 1, SOC type 2)\n",
    "\n",
    "The American Institute of Certified Public Accountants® (AICPA) auditing standards board developed this standard. The SOC1 and SOC2 are a series of reports that focus on an organization's user access policies at different organizational levels such as: \n",
    "\n",
    "- Associate\n",
    "- Supervisor\n",
    "- Manager\n",
    "- Executive\n",
    "- Vendor \n",
    "- Others \n",
    "\n",
    "They are used to assess an organization’s financial compliance and levels of risk. They also cover confidentiality, privacy, integrity, availability, security, and overall data safety. Control failures in these areas can lead to fraud.\n",
    "\n",
    "Pro tip: There are a number of regulations that are frequently revised. You are encouraged to keep up-to-date with changes and explore more frameworks, controls, and compliance. Two suggestions to research: the Gramm-Leach-Bliley Act and the Sarbanes-Oxley Act."
   ]
  }
 ],
 "metadata": {
  "language_info": {
   "name": "python"
  }
 },
 "nbformat": 4,
 "nbformat_minor": 2
}
