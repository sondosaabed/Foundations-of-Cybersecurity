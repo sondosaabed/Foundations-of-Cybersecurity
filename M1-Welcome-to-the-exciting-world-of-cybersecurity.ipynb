{
 "cells": [
  {
   "cell_type": "markdown",
   "metadata": {},
   "source": [
    "## Common cybersecurity terminology\n",
    "\n",
    "As you’ve learned, cybersecurity (also known as security) is the practice of ensuring confidentiality, integrity, and availability of information by protecting networks, devices, people, and data from unauthorized access or criminal exploitation. In this reading, you’ll be introduced to some key terms used in the cybersecurity profession. Then, you’ll be provided with a resource that’s useful for staying informed about changes to cybersecurity terminology.\n",
    "### Key cybersecurity terms and concepts\n",
    "\n",
    "There are many terms and concepts that are important for security professionals to know. Being familiar with them can help you better identify the threats that can harm organizations and people alike. A security analyst or cybersecurity analyst focuses on monitoring networks for breaches. They also help develop strategies to secure an organization and research information technology (IT) security trends to remain alert and informed about potential threats. Additionally, an analyst works to prevent incidents. In order for analysts to effectively do these types of tasks, they need to develop knowledge of the following key concepts. \n",
    "\n",
    "- **Compliance** is the process of adhering to internal standards and external regulations and enables organizations to avoid fines and security breaches.\n",
    "- **Security frameworks** are guidelines used for building plans to help mitigate risks and threats to data and privacy.\n",
    "- **Security controls** are safeguards designed to reduce specific security risks. They are used with security frameworks to establish a strong security posture.\n",
    "- **Security posture** is an organization’s ability to manage its defense of critical assets and data and react to change. A strong security posture leads to lower risk for the organization.\n",
    "- **A threat actor, or malicious attacker**, is any person or group who presents a security risk. This risk can relate to computers, applications, networks, and data.\n",
    "- An **internal threat** can be a current or former employee, an external vendor, or a trusted partner who poses a security risk. At times, an internal threat is accidental. For example, an employee who accidentally clicks on a malicious email link would be considered an accidental threat. Other times, the internal threat actor intentionally engages in risky activities, such as unauthorized data access.\n",
    "- **Network security** is the practice of keeping an organization's network infrastructure secure from unauthorized access. This includes data, services, systems, and devices that are stored in an organization’s network.\n",
    "- **Cloud security** is the process of ensuring that assets stored in the cloud are properly configured, or set up correctly, and access to those assets is limited to authorized users. The cloud is a network made up of a collection of servers or computers that store resources and data in remote physical locations known as data centers that can be accessed via the internet. Cloud security is a growing subfield of cybersecurity that specifically focuses on the protection of data, applications, and infrastructure in the cloud.\n",
    "- **Programming** is a process that can be used to create a specific set of instructions for a computer to execute tasks. These tasks can include:\n",
    "    - Automation of repetitive tasks (e.g., searching a list of malicious domains)\n",
    "    - Reviewing web traffic \n",
    "    - Alerting suspicious activity"
   ]
  },
  {
   "cell_type": "markdown",
   "metadata": {},
   "source": [
    "## Transferable and technical cybersecurity skills\n",
    "Previously, you learned that cybersecurity analysts need to develop certain core skills to be successful at work. Transferable skills are skills from other areas of study or practice that can apply to different careers. Technical skills may apply to several professions, as well; however, they typically require knowledge of specific tools, procedures, and policies. In this reading, you’ll explore both transferable skills and technical skills further.\n",
    "\n",
    "### Transferable skills\n",
    "You have probably developed many transferable skills through life experiences; some of those skills will help you thrive as a cybersecurity professional. These include:\n",
    "- **Communication**: As a cybersecurity analyst, you will need to communicate and collaborate with others. Understanding others’ questions or concerns and communicating information clearly to individuals with technical and non-technical knowledge will help you mitigate security issues quickly. \n",
    "- **Problem-solving**: One of your main tasks as a cybersecurity analyst will be to proactively identify and solve problems. You can do this by recognizing attack patterns, then determining the most efficient solution to minimize risk. Don't be afraid to take risks, and try new things. Also, understand that it's rare to find a perfect solution to a problem. You’ll likely need to compromise.\n",
    "- **Time management**: Having a heightened sense of urgency and prioritizing tasks appropriately is essential in the cybersecurity field. So, effective time management will help you minimize potential damage and risk to critical assets and data. Additionally, it will be important to prioritize tasks and stay focused on the most urgent issue.\n",
    "- **Growth mindset**: This is an evolving industry, so an important transferable skill is a willingness to learn. Technology moves fast, and that's a great thing! It doesn't mean you will need to learn it all, but it does mean that you’ll need to continue to learn throughout your career. Fortunately, you will be able to apply much of what you learn in this program to your ongoing professional development.\n",
    "- **Diverse perspectives**: The only way to go far is together. By having respect for each other and encouraging diverse perspectives and mutual respect, you’ll undoubtedly find multiple and better solutions to security problems. \n",
    "\n",
    "### Technical skills\n",
    "There are many technical skills that will help you be successful in the cybersecurity field. You’ll learn and practice these skills as you progress through the certificate program. Some of the tools and concepts you’ll need to use and be able to understand include: \n",
    "- **Programming languages**: By understanding how to use programming languages, cybersecurity analysts can automate tasks that would otherwise be very time consuming. Examples of tasks that programming can be used for include searching data to identify potential threats or organizing and analyzing information to identify patterns related to security issues. \n",
    "- **Security information and event management (SIEM) tools**: SIEM tools collect and analyze log data, or records of events such as unusual login behavior, and support analysts’ ability to monitor critical activities in an organization. This helps cybersecurity professionals identify and analyze potential security threats, risks, and vulnerabilities more efficiently.\n",
    "- **Intrusion detection systems (IDSs):** Cybersecurity analysts use IDSs to monitor system activity and alerts for possible intrusions. It’s important to become familiar with IDSs because they’re a key tool that every organization uses to protect assets and data. For example, you might use an IDS to monitor networks for signs of malicious activity, like unauthorized access to a network.\n",
    "- **Threat landscape knowledge**: Being aware of current trends related to threat actors, malware, or threat methodologies is vital. This knowledge allows security teams to build stronger defenses against threat actor tactics and techniques. By staying up to date on attack trends and patterns, security professionals are better able to recognize when new types of threats emerge such as a new ransomware variant. \n",
    "- **Incident response:** Cybersecurity analysts need to be able to follow established policies and procedures to respond to incidents appropriately. For example, a security analyst might receive an alert about a possible malware attack, then follow the organization’s outlined procedures to start the incident response process. This could involve conducting an investigation to identify the root issue and establishing ways to remediate it.\n",
    "\n",
    "### CompTIA Security+\n",
    "In addition to gaining skills that will help you succeed as a cybersecurity professional, the Google Cybersecurity Certificate helps prepare you for the CompTIA Security+ exam, the industry leading certification for cybersecurity roles. You’ll earn a dual credential when you complete both, which can be shared with potential employers. After completing all eight courses in the Google Cybersecurity Certificate, you will unlock a 30% discount for the CompTIA Security+ exam and additional practice materials."
   ]
  },
  {
   "cell_type": "markdown",
   "metadata": {},
   "source": [
    "## Terms\n",
    "- **Cybersecurity (or security):** The practice of ensuring confidentiality, integrity, and availability of information by protecting networks, devices, people, and data from unauthorized access or criminal exploitation\n",
    "- **Cloud security:** The process of ensuring that assets stored in the cloud are properly configured and access to those assets is limited to authorized users\n",
    "- **Internal threat:** A current or former employee, external vendor, or trusted partner who poses a security risk\n",
    "- **Network security:** The practice of keeping an organization's network infrastructure secure from unauthorized access\n",
    "- **Personally identifiable information (PII)**: Any information used to infer an individual’s identity\n",
    "- **Security posture:** An organization’s ability to manage its defense of critical assets and data and react to change \n",
    "- **Sensitive personally identifiable information (SPII**): A specific type of PII that falls under stricter handling guidelines\n",
    "- **Technical skills**: Skills that require knowledge of specific tools, procedures, and policies \n",
    "- **Threat**: Any circumstance or event that can negatively impact assets\n",
    "- **Threat actor:** Any person or group who presents a security risk\n",
    "- **Transferable skills:** Skills from other areas that can apply to different careers "
   ]
  }
 ],
 "metadata": {
  "language_info": {
   "name": "python"
  }
 },
 "nbformat": 4,
 "nbformat_minor": 2
}
